{
 "cells": [
  {
   "cell_type": "code",
   "execution_count": 23,
   "id": "0ad8c427",
   "metadata": {},
   "outputs": [],
   "source": [
    "#misc\n",
    "import numpy as np\n",
    "import random\n",
    "# env\n",
    "import gymnasium as gym\n",
    "from vizdoom import gymnasium_wrapper\n",
    "# learning\n",
    "import torch\n",
    "import torch.nn as nn\n",
    "import torch.autograd as autograd\n",
    "import stable_baselines3"
   ]
  },
  {
   "cell_type": "markdown",
   "id": "610e7576",
   "metadata": {},
   "source": [
    "# Game Loop"
   ]
  },
  {
   "cell_type": "code",
   "execution_count": 24,
   "id": "289838bf",
   "metadata": {},
   "outputs": [
    {
     "name": "stderr",
     "output_type": "stream",
     "text": [
      "c:\\Users\\umut\\Documents\\code\\introDL-vizdoom\\.venv\\lib\\site-packages\\vizdoom\\gymnasium_wrapper\\base_gymnasium_env.py:84: UserWarning: Detected screen format CRCGCB. Only RGB24 and GRAY8 are supported in the Gymnasium wrapper. Forcing RGB24.\n",
      "  warnings.warn(\n"
     ]
    }
   ],
   "source": [
    "env = gym.make(\"VizdoomBasic-v0\")\n",
    "\n",
    "obs, info = env.reset(seed=42)\n",
    "for _ in range(100):\n",
    "    action = env.action_space.sample()\n",
    "\n",
    "    obs, rew, term, trun, info = env.step(action)\n",
    "\n",
    "    if term or trun:\n",
    "        obs, info = env.reset()\n",
    "\n",
    "env.close()"
   ]
  },
  {
   "cell_type": "markdown",
   "id": "d50f8944",
   "metadata": {},
   "source": [
    "# Setup for DQN"
   ]
  },
  {
   "cell_type": "markdown",
   "id": "a6430b1d",
   "metadata": {},
   "source": [
    "We first need a **Transition** class which represents a `(state, action) -> (state', reward)` datapoint.\n",
    "\n",
    "Then we need a **Replay Memory** class to store and utilize these transitions."
   ]
  },
  {
   "cell_type": "code",
   "execution_count": 25,
   "id": "8da0fa68",
   "metadata": {},
   "outputs": [],
   "source": [
    "class Transition():\n",
    "    def __init__(self) -> None:\n",
    "        self.state\n",
    "        self.action\n",
    "        self.next_state\n",
    "        self.reward"
   ]
  },
  {
   "cell_type": "code",
   "execution_count": 26,
   "id": "ae744278",
   "metadata": {},
   "outputs": [],
   "source": [
    "class ReplayMemory(object):\n",
    "    def __init__(self):\n",
    "        self.memory = np.array()\n",
    "\n",
    "    def push(self, *args):\n",
    "        \"\"\"Save a transition\"\"\"\n",
    "        self.memory.append(Transition(*args))\n",
    "\n",
    "    def sample(self, batch_size):\n",
    "        return random.sample(self.memory, batch_size)\n",
    "\n",
    "    def __len__(self):\n",
    "        return len(self.memory)"
   ]
  },
  {
   "cell_type": "markdown",
   "id": "d7d21e0b",
   "metadata": {},
   "source": [
    "# DQN Class"
   ]
  },
  {
   "cell_type": "code",
   "execution_count": 27,
   "id": "16564f28",
   "metadata": {},
   "outputs": [],
   "source": [
    "class DQN(nn.Module):\n",
    "    def __init__(self, n_actions) -> None:\n",
    "        super(DQN, self).__init__()\n",
    "\n",
    "        self.conv1 = nn.Sequential(\n",
    "            nn.Conv2d(1, 8, kernel_size=3, stride=2, bias=False),\n",
    "            nn.BatchNorm2d(8),\n",
    "            nn.ReLU()\n",
    "        )\n",
    "\n",
    "        self.conv2 = nn.Sequential(\n",
    "            nn.Conv2d(8, 8, kernel_size=3, stride=2, bias=False),\n",
    "            nn.BatchNorm2d(8),\n",
    "            nn.ReLU()\n",
    "        )\n",
    "\n",
    "        self.conv3 = nn.Sequential(\n",
    "            nn.Conv2d(8, 8, kernel_size=3, stride=1, bias=False),\n",
    "            nn.BatchNorm2d(8),\n",
    "            nn.ReLU(),\n",
    "        )\n",
    "\n",
    "        self.conv4 = nn.Sequential(\n",
    "            nn.Conv2d(8, 16, kernel_size=3, stride=1, bias=False),\n",
    "            nn.BatchNorm2d(16),\n",
    "            nn.ReLU(),\n",
    "        )\n",
    "\n",
    "        self.state_fc = nn.Sequential(nn.Linear(96, 64), nn.ReLU(), nn.Linear(64, 1))\n",
    "\n",
    "        self.advantage_fc = nn.Sequential(\n",
    "            nn.Linear(96, 64), nn.ReLU(), nn.Linear(64, n_actions)\n",
    "        )\n",
    "\n",
    "    def forward(self, x):\n",
    "        x = self.conv1(x)\n",
    "        x = self.conv2(x)\n",
    "        x = self.conv3(x)\n",
    "        x = self.conv4(x)\n",
    "        x = x.view(-1, 192)\n",
    "        x1 = x[:, :96]  # input for the net to calculate the state value\n",
    "        x2 = x[:, 96:]  # relative advantage of actions in the state\n",
    "        state_value = self.state_fc(x1).reshape(-1, 1)\n",
    "        advantage_values = self.advantage_fc(x2)\n",
    "        x = state_value + (\n",
    "            advantage_values - advantage_values.mean(dim=1).reshape(-1, 1)\n",
    "        )\n",
    "\n",
    "        return x"
   ]
  },
  {
   "cell_type": "markdown",
   "id": "6fea2781",
   "metadata": {},
   "source": [
    "# Training"
   ]
  },
  {
   "cell_type": "markdown",
   "id": "dc03db81",
   "metadata": {},
   "source": [
    "We will add some boilerplate for the training, and some helper functions."
   ]
  },
  {
   "cell_type": "code",
   "execution_count": 31,
   "id": "c91dee4c",
   "metadata": {},
   "outputs": [],
   "source": [
    "# Utilize GPU for training if GPU present\n",
    "device = torch.device(\"cuda\" if torch.cuda.is_available() else \"cpu\")\n",
    "\n",
    "# Initialize RNG seed\n",
    "seed:int = 42 #rng seed\n",
    "random.seed(seed)\n",
    "np.random.seed(seed)\n",
    "torch.manual_seed(seed)\n",
    "\n",
    "# HYPERPARAMETERS\n",
    "total_timesteps:int = 500000 # timestep max of an experiment\n",
    "lr:float = 0.0001\n",
    "buffer_size:int = 10000 # experience replay buffer size\n",
    "gamma: float = 0.99 # discount factor\n",
    "batch_size: int = 128 # batch size for experience replay buffer sampling\n",
    "epsilon_max: float = 1 # starting epsilon value (exploration/exploitation)\n",
    "epsilon_min:float = 0.05 # ending epsilon value\n",
    "epsilon_duration:float = 0.5 # time spent before min epsilon is reached\n",
    "training_start:int = 10000 # steps needed before training begins\n",
    "tnur: int = 1 # target network update rate\n",
    "tnuf: int = 500 # target network update frequency\n",
    "qntf: int = 10 # qnetwork training frequency"
   ]
  },
  {
   "cell_type": "markdown",
   "id": "bcdf199c",
   "metadata": {},
   "source": [
    "Epsilon decay let's us start by picking random actions, then slowly start picking actions that yield high rewards. We first explore a wide array of options, and once we have an idea of what works and what doesn't, we start exploiting that knowledge and ldive deeper."
   ]
  },
  {
   "cell_type": "code",
   "execution_count": 29,
   "id": "3caea6d2",
   "metadata": {},
   "outputs": [],
   "source": [
    "def epsilon_decay(current_timestep: int):\n",
    "    slope = (epsilon_min - epsilon_max) / total_timesteps\n",
    "    return max(slope * current_timestep + epsilon_max, epsilon_min)"
   ]
  },
  {
   "cell_type": "code",
   "execution_count": 30,
   "id": "b479e3e2",
   "metadata": {},
   "outputs": [],
   "source": [
    "def get_action(obs, policy_net:DQN, current_timestep:int):\n",
    "    rng = random.random()\n",
    "    epsilon = epsilon_decay(current_timestep)\n",
    "    if rng > epsilon:\n",
    "        # action with highest q_value\n",
    "        q_values = policy_net(torch.Tensor(obs).to(device))\n",
    "        action = torch.argmax(q_values).cpu().numpy()\n",
    "    else:\n",
    "        # random action \n",
    "        action = env.action_space.sample()\n",
    "    return action\n",
    "    "
   ]
  }
 ],
 "metadata": {
  "kernelspec": {
   "display_name": ".venv",
   "language": "python",
   "name": "python3"
  },
  "language_info": {
   "codemirror_mode": {
    "name": "ipython",
    "version": 3
   },
   "file_extension": ".py",
   "mimetype": "text/x-python",
   "name": "python",
   "nbconvert_exporter": "python",
   "pygments_lexer": "ipython3",
   "version": "3.10.11"
  }
 },
 "nbformat": 4,
 "nbformat_minor": 5
}
