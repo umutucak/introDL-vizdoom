{
 "cells": [
  {
   "cell_type": "code",
   "execution_count": 34,
   "id": "0ad8c427",
   "metadata": {},
   "outputs": [],
   "source": [
    "#misc\n",
    "import numpy as np\n",
    "import random\n",
    "from tqdm import tqdm\n",
    "import matplotlib.pyplot as plt\n",
    "from collections import deque\n",
    "# env\n",
    "import gymnasium as gym\n",
    "from vizdoom import gymnasium_wrapper\n",
    "# learning\n",
    "import torch\n",
    "import torch.nn as nn\n",
    "import torch.autograd as autograd\n",
    "import torchvision.transforms as T"
   ]
  },
  {
   "cell_type": "markdown",
   "id": "d50f8944",
   "metadata": {},
   "source": [
    "# Setup for DQN"
   ]
  },
  {
   "cell_type": "markdown",
   "id": "a6430b1d",
   "metadata": {},
   "source": [
    "We first need a **Transition** class which represents a `(state, action) -> (state', reward)` datapoint.\n",
    "\n",
    "Then we need a **Replay Memory** class to store and utilize these transitions."
   ]
  },
  {
   "cell_type": "code",
   "execution_count": 35,
   "id": "8da0fa68",
   "metadata": {},
   "outputs": [],
   "source": [
    "class Transition():\n",
    "    def __init__(self, obs, action, next_obs, reward) -> None:\n",
    "        self.obs = obs\n",
    "        self.action = action\n",
    "        self.next_obs = next_obs\n",
    "        self.reward = reward"
   ]
  },
  {
   "cell_type": "code",
   "execution_count": 36,
   "id": "ae744278",
   "metadata": {},
   "outputs": [],
   "source": [
    "class ReplayBuffer(object):\n",
    "    def __init__(self, buffer_size):\n",
    "        self.memory = deque([], buffer_size)\n",
    "\n",
    "    def __len__(self) -> int:\n",
    "        return len(self.memory)\n",
    "\n",
    "    def push(self, transition:Transition):\n",
    "        \"\"\"Save a transition\"\"\"\n",
    "        self.memory.append(transition)\n",
    "\n",
    "    def sample(self, batch_size):\n",
    "        return random.sample(self.memory, batch_size)\n",
    "\n",
    "    def __len__(self):\n",
    "        return len(self.memory)"
   ]
  },
  {
   "cell_type": "markdown",
   "id": "d7d21e0b",
   "metadata": {},
   "source": [
    "# DQN Class"
   ]
  },
  {
   "cell_type": "code",
   "execution_count": 37,
   "id": "16564f28",
   "metadata": {},
   "outputs": [],
   "source": [
    "class DQN(nn.Module):\n",
    "    def __init__(self, n_actions) -> None:\n",
    "        super(DQN, self).__init__()\n",
    "\n",
    "        self.conv1 = nn.Sequential(\n",
    "            nn.Conv2d(1, 8, kernel_size=3, stride=2),\n",
    "            nn.ReLU()\n",
    "        )\n",
    "\n",
    "        dummy_input = torch.zeros(1, 1, 50, 75)  # [batch_size, in_channels, height, width]\n",
    "        output = self.conv1(dummy_input)\n",
    "        print(output.shape)\n",
    "        \n",
    "        conv1_out_shape = output.view(output.size(0), -1).shape # output.size(0) = batch_size\n",
    "\n",
    "        self.lin1 = nn.Sequential(\n",
    "            nn.Linear(conv1_out_shape[1], 128),\n",
    "            nn.ReLU()\n",
    "        )\n",
    "\n",
    "        self.lin2 = nn.Sequential(\n",
    "            nn.Linear(128, n_actions)\n",
    "        )\n",
    "    \n",
    "    def forward(self, x):\n",
    "        x = self.conv1(x)\n",
    "        x = x.view(x.size(0), -1) # x.size(0) = batch_size\n",
    "        x = self.lin1(x)\n",
    "        x = self.lin2(x)\n",
    "        return x"
   ]
  },
  {
   "cell_type": "markdown",
   "id": "6fea2781",
   "metadata": {},
   "source": [
    "# Define environment"
   ]
  },
  {
   "cell_type": "code",
   "execution_count": 38,
   "id": "616b8145",
   "metadata": {},
   "outputs": [
    {
     "name": "stderr",
     "output_type": "stream",
     "text": [
      "/Users/ucak/Documents/introDL-vizdoom/.venv/lib/python3.9/site-packages/vizdoom/gymnasium_wrapper/base_gymnasium_env.py:84: UserWarning: Detected screen format CRCGCB. Only RGB24 and GRAY8 are supported in the Gymnasium wrapper. Forcing RGB24.\n",
      "  warnings.warn(\n"
     ]
    }
   ],
   "source": [
    "env:gym.Env = gym.make(\"VizdoomBasic-v0\")"
   ]
  },
  {
   "cell_type": "markdown",
   "id": "dc03db81",
   "metadata": {},
   "source": [
    "We will add some boilerplate for the training, and some helper functions."
   ]
  },
  {
   "cell_type": "code",
   "execution_count": 39,
   "id": "c91dee4c",
   "metadata": {},
   "outputs": [],
   "source": [
    "# Utilize GPU for training if GPU present\n",
    "device = torch.device(\"cuda\" if torch.cuda.is_available() else \"cpu\")\n",
    "\n",
    "# Initialize RNG seed\n",
    "seed:int = 42 #rng seed\n",
    "random.seed(seed)\n",
    "np.random.seed(seed)\n",
    "torch.manual_seed(seed)\n",
    "\n",
    "# HYPERPARAMETERS\n",
    "total_timesteps:int = 500000 # timestep max of an experiment\n",
    "lr:float = 0.0001\n",
    "buffer_size:int = 10000 # experience replay buffer size\n",
    "gamma: float = 0.99 # discount factor\n",
    "batch_size: int = 128 # batch size for experience replay buffer sampling\n",
    "epsilon_max: float = 1 # starting epsilon value (exploration/exploitation)\n",
    "epsilon_min:float = 0.05 # ending epsilon value\n",
    "epsilon_duration:float = 0.5 # time spent before min epsilon is reached\n",
    "training_start:int = 10000 # steps needed before training begins\n",
    "tnur: int = 1 # target network update rate\n",
    "tnuf: int = 500 # target network update frequency\n",
    "qntf: int = 10 # qnetwork training frequency"
   ]
  },
  {
   "cell_type": "markdown",
   "id": "bcdf199c",
   "metadata": {},
   "source": [
    "Epsilon decay let's us start by picking random actions, then slowly start picking actions that yield high rewards. We first explore a wide array of options, and once we have an idea of what works and what doesn't, we start exploiting that knowledge and ldive deeper."
   ]
  },
  {
   "cell_type": "code",
   "execution_count": 40,
   "id": "3caea6d2",
   "metadata": {},
   "outputs": [],
   "source": [
    "def epsilon_decay(current_timestep: int):\n",
    "    slope = (epsilon_min - epsilon_max) / total_timesteps\n",
    "    return max(slope * current_timestep + epsilon_max, epsilon_min)"
   ]
  },
  {
   "cell_type": "code",
   "execution_count": 41,
   "id": "b479e3e2",
   "metadata": {},
   "outputs": [],
   "source": [
    "def get_action(action_space:gym.Space, obs, policy_net:DQN, current_timestep:int):\n",
    "    rng = random.random()\n",
    "    epsilon = epsilon_decay(current_timestep)\n",
    "    if rng > epsilon:\n",
    "        # action with highest q_value\n",
    "        q_values = policy_net(torch.Tensor(obs).to(device))\n",
    "        action = torch.argmax(q_values).cpu().numpy()\n",
    "    else:\n",
    "        # random action \n",
    "        action = action_space.sample()\n",
    "    return action"
   ]
  },
  {
   "cell_type": "markdown",
   "id": "af1a14f7",
   "metadata": {},
   "source": [
    "Define model, optimizer, and replay buffer."
   ]
  },
  {
   "cell_type": "code",
   "execution_count": 42,
   "id": "3b4a92fa",
   "metadata": {},
   "outputs": [
    {
     "name": "stdout",
     "output_type": "stream",
     "text": [
      "torch.Size([1, 8, 24, 37])\n",
      "torch.Size([1, 8, 24, 37])\n"
     ]
    }
   ],
   "source": [
    "# Initialize agent & target network\n",
    "q_net = DQN(env.action_space.n).to(device)\n",
    "optimizer = torch.optim.Adam(q_net.parameters(), lr)\n",
    "# Target network is used to evaluate the progress of our DQN.\n",
    "# It represents the past policy from which we evaluate surplus reward gains.\n",
    "target_net = DQN(env.action_space.n).to(device)\n",
    "target_net.load_state_dict(q_net.state_dict())\n",
    "\n",
    "# Initialize Experience Replay (ER) buffer\n",
    "# ER is used in DQN to avoid catastrophic forgetting.\n",
    "# It allows the model to re-train on previous experiences in order to\n",
    "# mix it with novel experiences and not forget previous training.\n",
    "# Another benefit of ER is that by randomly sampling data from memory \n",
    "# we avoid sequential correlation of experiences.\n",
    "replay_buffer = ReplayBuffer(buffer_size)"
   ]
  },
  {
   "cell_type": "markdown",
   "id": "4b129a4c",
   "metadata": {},
   "source": [
    "Image preprocessing"
   ]
  },
  {
   "cell_type": "code",
   "execution_count": 43,
   "id": "412f1908",
   "metadata": {},
   "outputs": [],
   "source": [
    "transformer = T.Compose([\n",
    "    T.ToPILImage(),\n",
    "    T.Resize((50,75)),\n",
    "    T.Grayscale(),\n",
    "    T.ToTensor()\n",
    "])"
   ]
  },
  {
   "cell_type": "markdown",
   "id": "e98693f9",
   "metadata": {},
   "source": [
    "Training Loop"
   ]
  },
  {
   "cell_type": "code",
   "execution_count": 48,
   "id": "0feb45e8",
   "metadata": {},
   "outputs": [
    {
     "name": "stderr",
     "output_type": "stream",
     "text": [
      "  0%|          | 610/500000 [00:05<1:09:08, 120.39it/s]\n"
     ]
    },
    {
     "ename": "KeyboardInterrupt",
     "evalue": "",
     "output_type": "error",
     "traceback": [
      "\u001b[0;31m---------------------------------------------------------------------------\u001b[0m",
      "\u001b[0;31mKeyboardInterrupt\u001b[0m                         Traceback (most recent call last)",
      "Cell \u001b[0;32mIn[48], line 6\u001b[0m\n\u001b[1;32m      4\u001b[0m action \u001b[38;5;241m=\u001b[39m get_action(env\u001b[38;5;241m.\u001b[39maction_space, obs[\u001b[38;5;124m\"\u001b[39m\u001b[38;5;124mscreen\u001b[39m\u001b[38;5;124m\"\u001b[39m], q_net, global_step)\n\u001b[1;32m      5\u001b[0m \u001b[38;5;66;03m# step through the env\u001b[39;00m\n\u001b[0;32m----> 6\u001b[0m next_obs, rew, term, trun, info \u001b[38;5;241m=\u001b[39m \u001b[43menv\u001b[49m\u001b[38;5;241;43m.\u001b[39;49m\u001b[43mstep\u001b[49m\u001b[43m(\u001b[49m\u001b[43maction\u001b[49m\u001b[43m)\u001b[49m\n\u001b[1;32m      7\u001b[0m \u001b[38;5;66;03m# store transition into memory\u001b[39;00m\n\u001b[1;32m      8\u001b[0m replay_buffer\u001b[38;5;241m.\u001b[39mpush(Transition(obs, action, next_obs, rew))\n",
      "File \u001b[0;32m~/Documents/introDL-vizdoom/.venv/lib/python3.9/site-packages/gymnasium/wrappers/common.py:393\u001b[0m, in \u001b[0;36mOrderEnforcing.step\u001b[0;34m(self, action)\u001b[0m\n\u001b[1;32m    391\u001b[0m \u001b[38;5;28;01mif\u001b[39;00m \u001b[38;5;129;01mnot\u001b[39;00m \u001b[38;5;28mself\u001b[39m\u001b[38;5;241m.\u001b[39m_has_reset:\n\u001b[1;32m    392\u001b[0m     \u001b[38;5;28;01mraise\u001b[39;00m ResetNeeded(\u001b[38;5;124m\"\u001b[39m\u001b[38;5;124mCannot call env.step() before calling env.reset()\u001b[39m\u001b[38;5;124m\"\u001b[39m)\n\u001b[0;32m--> 393\u001b[0m \u001b[38;5;28;01mreturn\u001b[39;00m \u001b[38;5;28;43msuper\u001b[39;49m\u001b[43m(\u001b[49m\u001b[43m)\u001b[49m\u001b[38;5;241;43m.\u001b[39;49m\u001b[43mstep\u001b[49m\u001b[43m(\u001b[49m\u001b[43maction\u001b[49m\u001b[43m)\u001b[49m\n",
      "File \u001b[0;32m~/Documents/introDL-vizdoom/.venv/lib/python3.9/site-packages/gymnasium/core.py:327\u001b[0m, in \u001b[0;36mWrapper.step\u001b[0;34m(self, action)\u001b[0m\n\u001b[1;32m    323\u001b[0m \u001b[38;5;28;01mdef\u001b[39;00m\u001b[38;5;250m \u001b[39m\u001b[38;5;21mstep\u001b[39m(\n\u001b[1;32m    324\u001b[0m     \u001b[38;5;28mself\u001b[39m, action: WrapperActType\n\u001b[1;32m    325\u001b[0m ) \u001b[38;5;241m-\u001b[39m\u001b[38;5;241m>\u001b[39m \u001b[38;5;28mtuple\u001b[39m[WrapperObsType, SupportsFloat, \u001b[38;5;28mbool\u001b[39m, \u001b[38;5;28mbool\u001b[39m, \u001b[38;5;28mdict\u001b[39m[\u001b[38;5;28mstr\u001b[39m, Any]]:\n\u001b[1;32m    326\u001b[0m \u001b[38;5;250m    \u001b[39m\u001b[38;5;124;03m\"\"\"Uses the :meth:`step` of the :attr:`env` that can be overwritten to change the returned data.\"\"\"\u001b[39;00m\n\u001b[0;32m--> 327\u001b[0m     \u001b[38;5;28;01mreturn\u001b[39;00m \u001b[38;5;28;43mself\u001b[39;49m\u001b[38;5;241;43m.\u001b[39;49m\u001b[43menv\u001b[49m\u001b[38;5;241;43m.\u001b[39;49m\u001b[43mstep\u001b[49m\u001b[43m(\u001b[49m\u001b[43maction\u001b[49m\u001b[43m)\u001b[49m\n",
      "File \u001b[0;32m~/Documents/introDL-vizdoom/.venv/lib/python3.9/site-packages/gymnasium/wrappers/common.py:285\u001b[0m, in \u001b[0;36mPassiveEnvChecker.step\u001b[0;34m(self, action)\u001b[0m\n\u001b[1;32m    283\u001b[0m     \u001b[38;5;28;01mreturn\u001b[39;00m env_step_passive_checker(\u001b[38;5;28mself\u001b[39m\u001b[38;5;241m.\u001b[39menv, action)\n\u001b[1;32m    284\u001b[0m \u001b[38;5;28;01melse\u001b[39;00m:\n\u001b[0;32m--> 285\u001b[0m     \u001b[38;5;28;01mreturn\u001b[39;00m \u001b[38;5;28;43mself\u001b[39;49m\u001b[38;5;241;43m.\u001b[39;49m\u001b[43menv\u001b[49m\u001b[38;5;241;43m.\u001b[39;49m\u001b[43mstep\u001b[49m\u001b[43m(\u001b[49m\u001b[43maction\u001b[49m\u001b[43m)\u001b[49m\n",
      "File \u001b[0;32m~/Documents/introDL-vizdoom/.venv/lib/python3.9/site-packages/vizdoom/gymnasium_wrapper/base_gymnasium_env.py:134\u001b[0m, in \u001b[0;36mVizdoomEnv.step\u001b[0;34m(self, action)\u001b[0m\n\u001b[1;32m    131\u001b[0m \u001b[38;5;28;01massert\u001b[39;00m \u001b[38;5;28mself\u001b[39m\u001b[38;5;241m.\u001b[39mstate \u001b[38;5;129;01mis\u001b[39;00m \u001b[38;5;129;01mnot\u001b[39;00m \u001b[38;5;28;01mNone\u001b[39;00m, \u001b[38;5;124m\"\u001b[39m\u001b[38;5;124mCall `reset` before using `step` method.\u001b[39m\u001b[38;5;124m\"\u001b[39m\n\u001b[1;32m    133\u001b[0m env_action \u001b[38;5;241m=\u001b[39m \u001b[38;5;28mself\u001b[39m\u001b[38;5;241m.\u001b[39m__build_env_action(action)\n\u001b[0;32m--> 134\u001b[0m reward \u001b[38;5;241m=\u001b[39m \u001b[38;5;28;43mself\u001b[39;49m\u001b[38;5;241;43m.\u001b[39;49m\u001b[43mgame\u001b[49m\u001b[38;5;241;43m.\u001b[39;49m\u001b[43mmake_action\u001b[49m\u001b[43m(\u001b[49m\u001b[43menv_action\u001b[49m\u001b[43m,\u001b[49m\u001b[43m \u001b[49m\u001b[38;5;28;43mself\u001b[39;49m\u001b[38;5;241;43m.\u001b[39;49m\u001b[43mframe_skip\u001b[49m\u001b[43m)\u001b[49m\n\u001b[1;32m    135\u001b[0m \u001b[38;5;28mself\u001b[39m\u001b[38;5;241m.\u001b[39mstate \u001b[38;5;241m=\u001b[39m \u001b[38;5;28mself\u001b[39m\u001b[38;5;241m.\u001b[39mgame\u001b[38;5;241m.\u001b[39mget_state()\n\u001b[1;32m    136\u001b[0m terminated \u001b[38;5;241m=\u001b[39m \u001b[38;5;28mself\u001b[39m\u001b[38;5;241m.\u001b[39mgame\u001b[38;5;241m.\u001b[39mis_episode_finished()\n",
      "\u001b[0;31mKeyboardInterrupt\u001b[0m: "
     ]
    }
   ],
   "source": [
    "obs, info = env.reset(seed=42)\n",
    "for global_step in tqdm(range(total_timesteps)):\n",
    "    # get action epsilon-greedy\n",
    "    action = get_action(env.action_space, obs[\"screen\"], q_net, global_step)\n",
    "    # step through the env\n",
    "    next_obs, rew, term, trun, info = env.step(action)\n",
    "    # store transition into memory\n",
    "    replay_buffer.push(Transition(obs, action, next_obs, rew))\n",
    "    # update obs\n",
    "    obs = next_obs\n",
    "    # env reset when finished\n",
    "    if term or trun:\n",
    "        obs, info = env.reset()\n",
    "    \n",
    "    # TRAINING\n",
    "    # if rb.\n",
    "\n",
    "\n",
    "env.close()"
   ]
  },
  {
   "cell_type": "code",
   "execution_count": null,
   "id": "0ebe6ad3",
   "metadata": {},
   "outputs": [
    {
     "ename": "NameError",
     "evalue": "name 'net' is not defined",
     "output_type": "error",
     "traceback": [
      "\u001b[0;31m---------------------------------------------------------------------------\u001b[0m",
      "\u001b[0;31mNameError\u001b[0m                                 Traceback (most recent call last)",
      "Cell \u001b[0;32mIn[13], line 7\u001b[0m\n\u001b[1;32m      5\u001b[0m obs, info \u001b[38;5;241m=\u001b[39m env\u001b[38;5;241m.\u001b[39mreset(seed\u001b[38;5;241m=\u001b[39m\u001b[38;5;241m42\u001b[39m)\n\u001b[1;32m      6\u001b[0m \u001b[38;5;66;03m# action = \u001b[39;00m\n\u001b[0;32m----> 7\u001b[0m n \u001b[38;5;241m=\u001b[39m \u001b[43mnet\u001b[49m(env\u001b[38;5;241m.\u001b[39mobservation_space, env\u001b[38;5;241m.\u001b[39maction_space\u001b[38;5;241m.\u001b[39mn)\n\u001b[1;32m     10\u001b[0m img \u001b[38;5;241m=\u001b[39m transformer(obs[\u001b[38;5;124m\"\u001b[39m\u001b[38;5;124mscreen\u001b[39m\u001b[38;5;124m\"\u001b[39m])\u001b[38;5;241m.\u001b[39msqueeze(\u001b[38;5;241m0\u001b[39m)\u001b[38;5;241m.\u001b[39mnumpy()\n\u001b[1;32m     11\u001b[0m \u001b[38;5;28mprint\u001b[39m(img\u001b[38;5;241m.\u001b[39mshape)\n",
      "\u001b[0;31mNameError\u001b[0m: name 'net' is not defined"
     ]
    }
   ],
   "source": [
    "env = gym.make(\"VizdoomBasic-v0\", render_mode=\"human\")\n",
    "\n",
    "\n",
    "\n",
    "obs, info = env.reset(seed=42)\n",
    "\n",
    "\n",
    "img = transformer(obs[\"screen\"]).squeeze(0).numpy()\n",
    "print(img.shape)\n",
    "plt.imshow(img)\n",
    "plt.show()"
   ]
  }
 ],
 "metadata": {
  "kernelspec": {
   "display_name": ".venv",
   "language": "python",
   "name": "python3"
  },
  "language_info": {
   "codemirror_mode": {
    "name": "ipython",
    "version": 3
   },
   "file_extension": ".py",
   "mimetype": "text/x-python",
   "name": "python",
   "nbconvert_exporter": "python",
   "pygments_lexer": "ipython3",
   "version": "3.9.6"
  }
 },
 "nbformat": 4,
 "nbformat_minor": 5
}
