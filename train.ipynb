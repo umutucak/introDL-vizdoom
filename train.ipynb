{
 "cells": [
  {
   "cell_type": "code",
   "execution_count": 1,
   "id": "0ad8c427",
   "metadata": {},
   "outputs": [],
   "source": [
    "import gymnasium as gym\n",
    "from vizdoom import gymnasium_wrapper"
   ]
  },
  {
   "cell_type": "code",
   "execution_count": 4,
   "id": "289838bf",
   "metadata": {},
   "outputs": [],
   "source": [
    "env = gym.make(\"VizdoomBasic-v0\", render_mode=\"human\")\n",
    "\n",
    "obs, info = env.reset(seed=42)\n",
    "for _ in range(100):\n",
    "    action = env.action_space.sample()\n",
    "\n",
    "    obs, rew, term, trun, info = env.step(action)\n",
    "\n",
    "    if term or trun:\n",
    "        obs, info = env.reset()\n",
    "\n",
    "env.close()"
   ]
  }
 ],
 "metadata": {
  "kernelspec": {
   "display_name": ".venv",
   "language": "python",
   "name": "python3"
  },
  "language_info": {
   "codemirror_mode": {
    "name": "ipython",
    "version": 3
   },
   "file_extension": ".py",
   "mimetype": "text/x-python",
   "name": "python",
   "nbconvert_exporter": "python",
   "pygments_lexer": "ipython3",
   "version": "3.10.11"
  }
 },
 "nbformat": 4,
 "nbformat_minor": 5
}
